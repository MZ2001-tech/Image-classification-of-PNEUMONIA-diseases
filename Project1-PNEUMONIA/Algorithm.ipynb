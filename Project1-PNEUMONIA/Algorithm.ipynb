{
  "cells": [
    {
      "cell_type": "markdown",
      "metadata": {
        "id": "cEaDaqFS16aX"
      },
      "source": [
        "#Install Packages\n"
      ]
    },
    {
      "cell_type": "code",
      "execution_count": null,
      "metadata": {
        "colab": {
          "base_uri": "https://localhost:8080/"
        },
        "id": "sTZoKmQD1NxX",
        "outputId": "e380dc8d-621d-4d9a-85be-94591f00fb92"
      },
      "outputs": [],
      "source": [
        "!pip install torch torchvision torchsummary streamlit pyngrok"
      ]
    },
    {
      "cell_type": "markdown",
      "metadata": {
        "id": "EtIc77Sb2AdO"
      },
      "source": [
        "#Import Packages"
      ]
    },
    {
      "cell_type": "code",
      "execution_count": null,
      "metadata": {
        "collapsed": true,
        "id": "_zgAlIE-1-wf"
      },
      "outputs": [],
      "source": [
        "\n",
        "import os\n",
        "from torch.utils.data import Dataset, DataLoader\n",
        "import torch\n",
        "import torch.nn as nn\n",
        "import torch.optim as optim\n",
        "import torchvision\n",
        "import torchvision.transforms as transforms\n",
        "from torchvision import models\n",
        "from torchvision import datasets\n",
        "from torch.utils.data import DataLoader\n",
        "from torchsummary import summary\n",
        "import streamlit as st\n",
        "from pyngrok import ngrok\n",
        "import cv2\n",
        "import numpy as np\n",
        "import time\n",
        "import matplotlib.pyplot as plt\n",
        "from PIL import Image\n",
        "import matplotlib.pyplot as plt\n",
        "from PIL import Image\n",
        "from torchvision import transforms, utils, models\n",
        "\n",
        "from collections import OrderedDict\n",
        "device = torch.device('cuda:0' if torch.cuda.is_available() else 'cpu')\n"
      ]
    },
    {
      "cell_type": "markdown",
      "metadata": {
        "id": "71WrQehL382l"
      },
      "source": [
        "#Data Preparation"
      ]
    },
    {
      "cell_type": "code",
      "execution_count": null,
      "metadata": {
        "colab": {
          "base_uri": "https://localhost:8080/"
        },
        "id": "VsU-cQLSFHZP",
        "outputId": "116caed7-ac21-4863-a46c-54e33b251c46"
      },
      "outputs": [],
      "source": [
        "# Load the Drive helper and mount\n",
        "from google.colab import drive\n",
        "drive.mount('/content/drive')\n"
      ]
    },
    {
      "cell_type": "code",
      "execution_count": null,
      "metadata": {
        "colab": {
          "base_uri": "https://localhost:8080/",
          "height": 172
        },
        "id": "f6D34GodXe1x",
        "outputId": "02351440-65f2-48ff-f036-8c4f7e256ccd"
      },
      "outputs": [],
      "source": [
        "# Load the Drive helper and mount\n",
        "from google.colab import drive\n",
        "drive.mount('/content/drive')\n",
        "\n",
        "# Path to your dataset (adjust accordingly)\n",
        "data_dir = \"/content/drive/MyDrive/train_set\"\n",
        "\n",
        "# Load the dataset\n",
        "dataset = datasets.ImageFolder('/content/drive/MyDrive/train_set')\n",
        "\n",
        "# Function to display images\n",
        "def show_images(dataset, num_images=5):\n",
        "    fig, axes = plt.subplots(1, num_images, figsize=(15, 5))\n",
        "    for i in range(num_images):\n",
        "        img_path, _ = dataset.samples[i]  # Get image path and label\n",
        "        image = Image.open(img_path)  # Read image using PIL\n",
        "        axes[i].imshow(image) # Display using matplotlib\n",
        "        axes[i].set_title(f\"Label: {dataset.classes[_]}\")\n",
        "        axes[i].axis('off')\n",
        "    plt.show()\n",
        "\n",
        "# Display a few images from the dataset\n",
        "show_images(dataset)\n"
      ]
    },
    {
      "cell_type": "code",
      "execution_count": null,
      "metadata": {
        "id": "7HRubO-qY7wd"
      },
      "outputs": [],
      "source": [
        "\n",
        "\n",
        "#Define the Data Taransformation\n",
        "transform = transforms.Compose([\n",
        "    transforms.Resize((224, 224)), #Resiszing the image for Resnet-18 Algorithm implementation from 513 x 512 to 224x224\n",
        "    transforms.RandomHorizontalFlip(), #Data Augmentation process where the image are randomly roting haorizontally\n",
        "    transforms.RandomRotation(20),  # data Augmatation process where the image will rotate in a range of  +- 20 degrees\n",
        "    transforms.ToTensor(),\n",
        "    transforms.Normalize(mean=[0.485, 0.456, 0.406], std=[0.229, 0.224, 0.225])\n",
        "])\n",
        "\n",
        "# Load the data Set\n",
        "train_dataset = datasets.ImageFolder(root='/content/drive/MyDrive/train_set', transform=transform)\n",
        "test_dataset = datasets.ImageFolder(root='/content/drive/MyDrive/train_set', transform=transform)\n",
        "\n",
        "train_loader = DataLoader(train_dataset, batch_size=32, shuffle=True)\n",
        "test_loader = DataLoader(test_dataset, batch_size=32, shuffle=False)\n",
        "\n",
        "\n",
        "\n",
        "\n",
        "\n"
      ]
    },
    {
      "cell_type": "code",
      "execution_count": null,
      "metadata": {
        "colab": {
          "base_uri": "https://localhost:8080/"
        },
        "id": "dCDK_nsfSELA",
        "outputId": "3e073ca2-75c6-4f6c-9189-d8769949ad41"
      },
      "outputs": [],
      "source": [
        "print('Train dataset size: ', len(train_dataset))\n",
        "print('Test dataset size: ', len(test_dataset))\n",
        "class_names = train_dataset.classes\n",
        "print('Class names: ', class_names)"
      ]
    },
    {
      "cell_type": "code",
      "execution_count": null,
      "metadata": {
        "colab": {
          "base_uri": "https://localhost:8080/",
          "height": 213
        },
        "id": "cRB_lfym_VXa",
        "outputId": "3d1fcf6e-752f-440e-b06a-a353d45a34db"
      },
      "outputs": [],
      "source": [
        "plt.rcParams['figure.figsize'] = [12, 8]\n",
        "plt.rcParams['figure.dpi'] = 60\n",
        "plt.rcParams.update({'font.size': 20})\n",
        "def imshow(input, title):\n",
        "    # torch.Tensor => numpy\n",
        "    input = input.numpy().transpose((1, 2, 0))\n",
        "    # undo image normalization\n",
        "    mean = np.array([0.485, 0.456, 0.406])\n",
        "    std = np.array([0.229, 0.224, 0.225])\n",
        "    input = std * input + mean\n",
        "    input = np.clip(input, 0, 1)\n",
        "    # display images\n",
        "    plt.imshow(input)\n",
        "    plt.title(title)\n",
        "    plt.show()\n",
        "# load a batch of train image\n",
        "iterator = iter(train_loader)\n",
        "# visualize a batch of train image\n",
        "inputs, classes = next(iterator)\n",
        "out = torchvision.utils.make_grid(inputs[:4])\n",
        "imshow(out, title=[class_names[x] for x in classes[:4]])"
      ]
    },
    {
      "cell_type": "markdown",
      "metadata": {
        "id": "-wb_hPXVaxuV"
      },
      "source": [
        "#Model Development"
      ]
    },
    {
      "cell_type": "markdown",
      "metadata": {
        "id": "_JVDFkHUbXVF"
      },
      "source": [
        "call Model"
      ]
    },
    {
      "cell_type": "code",
      "execution_count": null,
      "metadata": {
        "colab": {
          "base_uri": "https://localhost:8080/"
        },
        "collapsed": true,
        "id": "4hbrM7wmbVxt",
        "outputId": "fd376703-5572-4a0a-d2bd-1d1e63776a16"
      },
      "outputs": [],
      "source": [
        "model = models.resnet18(pretrained=True)\n",
        "model"
      ]
    },
    {
      "cell_type": "code",
      "execution_count": null,
      "metadata": {
        "colab": {
          "base_uri": "https://localhost:8080/"
        },
        "id": "IQp8jeHsbnKT",
        "outputId": "494a20f8-6c55-4e0a-de06-2e50a64a0ce2"
      },
      "outputs": [],
      "source": [
        "num_features = model.fc.in_features\n",
        "num_features"
      ]
    },
    {
      "cell_type": "markdown",
      "metadata": {
        "id": "BeirwRqlkMkC"
      },
      "source": [
        "Freeze model"
      ]
    },
    {
      "cell_type": "code",
      "execution_count": null,
      "metadata": {
        "id": "-RO5YVoekMsp"
      },
      "outputs": [],
      "source": [
        "#Freeze the layers\n",
        "for param in model.parameters():\n",
        "    param.requires_grad = False"
      ]
    },
    {
      "cell_type": "code",
      "execution_count": null,
      "metadata": {
        "id": "UuE_ZW2f5QBj"
      },
      "outputs": [],
      "source": [
        "for param in model.layer4.parameters():\n",
        "    param.requires_grad = True"
      ]
    },
    {
      "cell_type": "code",
      "execution_count": null,
      "metadata": {
        "colab": {
          "base_uri": "https://localhost:8080/"
        },
        "id": "5mcosvekbwuj",
        "outputId": "67108e4d-fbb7-4d73-eb99-fc72cfc16a50"
      },
      "outputs": [],
      "source": [
        "#Add fully connected layer to model development\n",
        "model.fc = nn.Linear(num_features, 2)\n",
        "model = model.to(device)\n",
        "model"
      ]
    },
    {
      "cell_type": "code",
      "execution_count": null,
      "metadata": {
        "colab": {
          "base_uri": "https://localhost:8080/"
        },
        "id": "LT7Wph1Ll_e_",
        "outputId": "6ec04841-7bec-4ba8-f8c6-28f68c3f0629"
      },
      "outputs": [],
      "source": [
        "# Check if layers are frozen or trainable\n",
        "for name, param in model.named_parameters():\n",
        "    print(f\"Layer: {name} | Frozen: {not param.requires_grad}\")"
      ]
    },
    {
      "cell_type": "markdown",
      "metadata": {
        "id": "htbx-kHNUHNF"
      },
      "source": [
        "#Model Training\n",
        "\n",
        "\n",
        "\n"
      ]
    },
    {
      "cell_type": "code",
      "execution_count": null,
      "metadata": {
        "id": "9B3sk5Pund_1"
      },
      "outputs": [],
      "source": [
        "#define the loss function and Optimizer\n",
        "criterion = nn.CrossEntropyLoss()\n",
        "optimizer = optim.Adam(model.parameters(), lr=0.001)"
      ]
    },
    {
      "cell_type": "code",
      "execution_count": null,
      "metadata": {
        "id": "bYX1w1urndzN"
      },
      "outputs": [],
      "source": [
        "#Set the random seed\n",
        "torch.manual_seed(42)\n",
        "torch.cuda.manual_seed(42)"
      ]
    },
    {
      "cell_type": "code",
      "execution_count": null,
      "metadata": {
        "colab": {
          "base_uri": "https://localhost:8080/"
        },
        "id": "YN3ZoFn9m2tu",
        "outputId": "70a27ff1-15a3-4e78-a746-ccf928b4cd0c"
      },
      "outputs": [],
      "source": [
        "#### Train model\n",
        "train_loss=[]\n",
        "train_accuary=[]\n",
        "test_loss=[]\n",
        "test_accuary=[]\n",
        "\n",
        "num_epochs = 10   #(set no of epochs)\n",
        "start_time = time.time() #(for showing time)\n",
        "# Start loop\n",
        "for epoch in range(num_epochs): #(loop for every epoch)\n",
        "    print(\"Epoch {} running\".format(epoch)) #(printing message)\n",
        "    \"\"\" Training Phase \"\"\"\n",
        "    model.train()    #(training model)\n",
        "    running_loss = 0.   #(set loss 0)\n",
        "    running_corrects = 0\n",
        "    # load a batch data of images\n",
        "    for i, (inputs, labels) in enumerate(train_loader):\n",
        "        inputs = inputs.to(device)\n",
        "        labels = labels.to(device)\n",
        "        # forward inputs and get output\n",
        "        optimizer.zero_grad()\n",
        "        outputs = model(inputs)\n",
        "        _, preds = torch.max(outputs, 1)\n",
        "        loss = criterion(outputs, labels)\n",
        "        # get loss value and update the network weights\n",
        "        loss.backward()\n",
        "        optimizer.step()\n",
        "        running_loss += loss.item()\n",
        "        running_corrects += torch.sum(preds == labels.data).item()\n",
        "    epoch_loss = running_loss / len(train_dataset)\n",
        "    epoch_acc = running_corrects / len(train_dataset) * 100.\n",
        "    # Append result\n",
        "    train_loss.append(epoch_loss)\n",
        "    train_accuary.append(epoch_acc)\n",
        "    # Print progress\n",
        "    print('[Train #{}] Loss: {:.4f} Acc: {:.4f}% Time: {:.4f}s'.format(epoch+1, epoch_loss, epoch_acc, time.time() -start_time))\n",
        "\n",
        "  #Testing Phase\n",
        "    model.eval()\n",
        "    with torch.no_grad():\n",
        "        running_loss = 0.\n",
        "        running_corrects = 0\n",
        "        for inputs, labels in test_loader:\n",
        "            inputs = inputs.to(device)\n",
        "            labels = labels.to(device)\n",
        "            outputs = model(inputs)\n",
        "            _, preds = torch.max(outputs, 1)\n",
        "            loss = criterion(outputs, labels)\n",
        "            running_loss += loss.item()\n",
        "            running_corrects += torch.sum(preds == labels.data).item()\n",
        "        epoch_loss = running_loss / len(test_dataset)\n",
        "        epoch_acc = running_corrects / len(test_dataset) * 100.\n",
        "        # Append result\n",
        "        test_loss.append(epoch_loss)\n",
        "        test_accuary.append(epoch_acc)\n",
        "        # Print progress\n",
        "        print('[Test #{}] Loss: {:.4f} Acc: {:.4f}% Time: {:.4f}s'.format(epoch+1, epoch_loss, epoch_acc, time.time()- start_time))\n"
      ]
    },
    {
      "cell_type": "code",
      "execution_count": null,
      "metadata": {
        "id": "yGMLFuJ3nYBb"
      },
      "outputs": [],
      "source": []
    },
    {
      "cell_type": "code",
      "execution_count": null,
      "metadata": {
        "colab": {
          "base_uri": "https://localhost:8080/",
          "height": 352
        },
        "id": "YRuuXSnPm-Am",
        "outputId": "f0775777-8800-4791-a700-3e89290cb6b1"
      },
      "outputs": [],
      "source": [
        "# prompt: plot the graph of the traing accurcies as well as it loss training only\n",
        "\n",
        "import matplotlib.pyplot as plt\n",
        "# Plot training accuracy and loss\n",
        "plt.figure(figsize=(12, 6))\n",
        "\n",
        "# Plot training accuracy\n",
        "plt.subplot(1, 2, 1)\n",
        "plt.plot(train_accuary, label='Training Accuracy')\n",
        "plt.xlabel('Epoch')\n",
        "plt.ylabel('Accuracy (%)')\n",
        "plt.title('Training Accuracy')\n",
        "plt.legend()\n",
        "\n",
        "# Plot training loss\n",
        "plt.subplot(1, 2, 2)\n",
        "plt.plot(train_loss, label='Training Loss')\n",
        "plt.xlabel('Epoch')\n",
        "plt.ylabel('Loss')\n",
        "plt.title('Training Loss')\n",
        "plt.legend()\n",
        "\n",
        "plt.tight_layout()\n",
        "plt.show()\n"
      ]
    },
    {
      "cell_type": "markdown",
      "metadata": {
        "id": "hKt1eeyDGQzF"
      },
      "source": [
        "Evaluate Model"
      ]
    },
    {
      "cell_type": "code",
      "execution_count": null,
      "metadata": {
        "colab": {
          "base_uri": "https://localhost:8080/",
          "height": 352
        },
        "id": "CA105hgZmOYG",
        "outputId": "cbbc862b-6826-45d0-c8b4-f0606dfd9a80"
      },
      "outputs": [],
      "source": [
        "# prompt: plot the graph of the testing accurcies as well as it loss testing only\n",
        "\n",
        "import matplotlib.pyplot as plt\n",
        "# Plot testing accuracy and loss\n",
        "plt.figure(figsize=(12, 6))\n",
        "\n",
        "# Plot testing accuracy\n",
        "plt.subplot(1, 2, 1)\n",
        "plt.plot(test_accuary, label='Testing Accuracy')\n",
        "plt.xlabel('Epoch')\n",
        "plt.ylabel('Accuracy (%)')\n",
        "plt.title('Testing Accuracy')\n",
        "plt.legend()\n",
        "\n",
        "# Plot testing loss\n",
        "plt.subplot(1, 2, 2)\n",
        "plt.plot(test_loss, label='Testing Loss')\n",
        "plt.xlabel('Epoch')\n",
        "plt.ylabel('Loss')\n",
        "plt.title('Testing Loss')\n",
        "plt.legend()\n",
        "\n",
        "plt.tight_layout()\n",
        "plt.show()\n"
      ]
    },
    {
      "cell_type": "code",
      "execution_count": null,
      "metadata": {
        "colab": {
          "base_uri": "https://localhost:8080/",
          "height": 371
        },
        "id": "k696ogN8oOnI",
        "outputId": "11db4a4a-4532-43c6-d674-1d2745537a1e"
      },
      "outputs": [],
      "source": [
        "# prompt: build confusion matrix\n",
        "\n",
        "import matplotlib.pyplot as plt\n",
        "from sklearn.metrics import confusion_matrix\n",
        "import seaborn as sns\n",
        "\n",
        "# Initialize lists to store true and predicted labels\n",
        "y_true = []\n",
        "y_pred = []\n",
        "\n",
        "# Evaluate the model on the test set\n",
        "model.eval()\n",
        "with torch.no_grad():\n",
        "    for inputs, labels in test_loader:\n",
        "        inputs = inputs.to(device)\n",
        "        labels = labels.to(device)\n",
        "        outputs = model(inputs)\n",
        "        _, preds = torch.max(outputs, 1)\n",
        "\n",
        "        # Append true and predicted labels\n",
        "        y_true.extend(labels.cpu().numpy())\n",
        "        y_pred.extend(preds.cpu().numpy())\n",
        "\n",
        "# Calculate confusion matrix\n",
        "cm = confusion_matrix(y_true, y_pred)\n",
        "\n",
        "# Plot confusion matrix\n",
        "plt.figure(figsize=(8, 6))\n",
        "sns.heatmap(cm, annot=True, fmt='d', cmap='Blues', xticklabels=class_names, yticklabels=class_names)\n",
        "plt.xlabel('Predicted Label')\n",
        "plt.ylabel('True Label')\n",
        "plt.title('Confusion Matrix')\n",
        "plt.show()\n"
      ]
    },
    {
      "cell_type": "markdown",
      "metadata": {
        "id": "n5Ed_7Hj3fS0"
      },
      "source": [
        "#Saving the Model"
      ]
    },
    {
      "cell_type": "code",
      "execution_count": null,
      "metadata": {
        "colab": {
          "base_uri": "https://localhost:8080/"
        },
        "id": "KqbHukFO3liz",
        "outputId": "83edac03-3603-428b-89c5-6d35d1efd903"
      },
      "outputs": [],
      "source": [
        "!pip install h5py"
      ]
    },
    {
      "cell_type": "code",
      "execution_count": null,
      "metadata": {
        "colab": {
          "base_uri": "https://localhost:8080/"
        },
        "id": "kDnz6t684Kc1",
        "outputId": "4b5da763-63ff-4113-f333-5e0371e31f08"
      },
      "outputs": [],
      "source": [
        "from google.colab import drive\n",
        "drive.mount('/content/drive')\n"
      ]
    },
    {
      "cell_type": "code",
      "execution_count": null,
      "metadata": {
        "id": "xhtjmC-c4Yay"
      },
      "outputs": [],
      "source": [
        "torch.save(model.state_dict(), '/content/drive/MyDrive/ZikryV3_model.pth')"
      ]
    },
    {
      "cell_type": "code",
      "execution_count": null,
      "metadata": {
        "id": "jGcJO9zB4j8y"
      },
      "outputs": [],
      "source": [
        "import h5py\n",
        "\n",
        "#save model\n",
        "torch.save(model.state_dict(), '/content/drive/MyDrive/Zikry_model.h5')\n",
        "\n",
        "#"
      ]
    }
  ],
  "metadata": {
    "colab": {
      "provenance": []
    },
    "kernelspec": {
      "display_name": "Python 3",
      "name": "python3"
    },
    "language_info": {
      "name": "python"
    }
  },
  "nbformat": 4,
  "nbformat_minor": 0
}
