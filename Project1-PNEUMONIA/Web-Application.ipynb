{
  "cells": [
    {
      "cell_type": "code",
      "execution_count": null,
      "metadata": {
        "colab": {
          "base_uri": "https://localhost:8080/"
        },
        "collapsed": true,
        "id": "YJZb1q14tVAH",
        "outputId": "b87fcbef-48dd-40d8-aa35-31c2051223ac"
      },
      "outputs": [],
      "source": [
        "!pip install torch torchvision torchsummary streamlit pyngrok\n"
      ]
    },
    {
      "cell_type": "code",
      "execution_count": null,
      "metadata": {
        "colab": {
          "base_uri": "https://localhost:8080/"
        },
        "collapsed": true,
        "id": "_vdIXSlSEQuf",
        "outputId": "c5d1c47f-f3b4-4141-d545-917c18010ece"
      },
      "outputs": [],
      "source": [
        "!npm install localtunnel"
      ]
    },
    {
      "cell_type": "code",
      "execution_count": null,
      "metadata": {
        "colab": {
          "base_uri": "https://localhost:8080/"
        },
        "id": "JpSf7x7YLU0P",
        "outputId": "aab172be-704b-4f8c-a926-43c252ecb7a7"
      },
      "outputs": [],
      "source": [
        "# prompt: mount g drive\n",
        "\n",
        "from google.colab import drive\n",
        "drive.mount('/content/drive')\n"
      ]
    },
    {
      "cell_type": "code",
      "execution_count": null,
      "metadata": {
        "colab": {
          "base_uri": "https://localhost:8080/"
        },
        "id": "HirDZSbfyYii",
        "outputId": "ec70c794-4808-4d47-f0c6-6f34c537938f"
      },
      "outputs": [],
      "source": [
        "%%writefile app.py\n",
        "import torch\n",
        "from torchvision import models\n",
        "import streamlit as st\n",
        "import os\n",
        "from torch.utils.data import Dataset, DataLoader\n",
        "import torch\n",
        "import torch.nn as nn\n",
        "import torch.optim as optim\n",
        "import torchvision\n",
        "import torchvision.transforms as transforms\n",
        "from torchvision import models\n",
        "from torchvision import datasets\n",
        "from torch.utils.data import DataLoader\n",
        "from torchsummary import summary\n",
        "import streamlit as st\n",
        "from pyngrok import ngrok\n",
        "import cv2\n",
        "import numpy as np\n",
        "import time\n",
        "import matplotlib.pyplot as plt\n",
        "from PIL import Image\n",
        "import matplotlib.pyplot as plt\n",
        "from PIL import Image\n",
        "from torchvision import transforms, utils, models\n",
        "from collections import OrderedDict\n",
        "device = torch.device('cuda:0' if torch.cuda.is_available() else 'cpu')\n",
        "\n",
        "# Set Web App title\n",
        "st.title('PNEUMONIA Image Classification')\n",
        "\n",
        "#Set Header\n",
        "st.header('Please upload the X-ray Image here: ')\n",
        "\n",
        "#Upload a file\n",
        "file=st.file_uploader('', type=['jpeg', 'jpg', 'png'])\n",
        "\n",
        "##load model\n",
        "# Assuming the model is saved as 'model.pth' in your Google Drive\n",
        "model_path = '/content/drive/My Drive/ZikryV3_model.pth'  # Replace with your actual path\n",
        "\n",
        "# Load the state dictionary\n",
        "state_dict = torch.load(model_path)\n",
        "\n",
        "# Determine the number of classes from the saved state dictionary\n",
        "num_classes = state_dict['fc.weight'].shape[0]  # Get the number of output features in the 'fc' layer\n",
        "\n",
        "# Create a ResNet model with the correct number of classes\n",
        "model = models.resnet18(num_classes=num_classes)  # Set num_classes\n",
        "\n",
        "# Load the state dictionary into the model\n",
        "model.load_state_dict(state_dict)\n",
        "\n",
        "# Now you can set the model to eval mode\n",
        "model.eval()\n",
        "\n",
        "##class Label/classname\n",
        "with open('/content/drive/My Drive/labels.txt','r') as f:\n",
        "    class_names = [a[:-1].split(' ')[1] for a in f.readlines()]\n",
        "    f.close()\n",
        "print(class_names)\n",
        "\n",
        "##Display image\n",
        "if file is not None:\n",
        "   image = Image.open(file).convert('RGB')\n",
        "   st.image(image, caption='Uploaded Image.', use_column_width=True)\n",
        "\n",
        "   # Convert image to (224, 224)\n",
        "   transform = transforms.Compose([\n",
        "       transforms.Resize((224, 224)),\n",
        "       transforms.ToTensor(),\n",
        "       transforms.Normalize(mean=[0.485, 0.456, 0.406], std=[0.229, 0.224, 0.225])\n",
        "   ])\n",
        "   image = transform(image).unsqueeze(0).to(device)\n",
        "\n",
        "   # Make prediction\n",
        "   model.eval()\n",
        "   with torch.no_grad():\n",
        "       outputs = model(image)\n",
        "       _, predicted = torch.max(outputs, 1)\n",
        "       conf_score = torch.nn.functional.softmax(outputs, dim=1)[0][predicted].item()\n",
        "       class_name = class_names[predicted.item()]\n",
        "\n",
        "   #write Classification\n",
        "   st.write(\"## {}\".format(class_name))\n",
        "   st.write(\"### score: {}\".format(conf_score))\n",
        "\n"
      ]
    },
    {
      "cell_type": "code",
      "execution_count": null,
      "metadata": {
        "id": "0EXcu4UkxPor"
      },
      "outputs": [],
      "source": []
    },
    {
      "cell_type": "code",
      "execution_count": null,
      "metadata": {
        "colab": {
          "base_uri": "https://localhost:8080/"
        },
        "id": "6I2naCw4BKDh",
        "outputId": "bc57e4b6-a283-4845-aaa7-2774b1a4d5b7"
      },
      "outputs": [],
      "source": [
        "!wget -q -O - ipv4.icanhazip.com"
      ]
    },
    {
      "cell_type": "code",
      "execution_count": null,
      "metadata": {
        "colab": {
          "base_uri": "https://localhost:8080/"
        },
        "collapsed": true,
        "id": "Qrf_WnGLEIWm",
        "outputId": "59fa3e6a-8443-4631-8155-3247fb46af2c"
      },
      "outputs": [],
      "source": [
        "!streamlit run app.py & npx localtunnel --port 8501\n"
      ]
    }
  ],
  "metadata": {
    "colab": {
      "provenance": []
    },
    "kernelspec": {
      "display_name": "Python 3",
      "name": "python3"
    },
    "language_info": {
      "name": "python"
    }
  },
  "nbformat": 4,
  "nbformat_minor": 0
}
